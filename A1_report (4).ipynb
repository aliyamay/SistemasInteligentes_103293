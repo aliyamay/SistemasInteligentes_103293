{
 "cells": [
  {
   "cell_type": "code",
   "execution_count": 1,
   "id": "0f9487ec",
   "metadata": {},
   "outputs": [
    {
     "name": "stderr",
     "output_type": "stream",
     "text": [
      "C:\\Users\\Aliya\\anaconda3\\lib\\site-packages\\scipy\\__init__.py:146: UserWarning: A NumPy version >=1.16.5 and <1.23.0 is required for this version of SciPy (detected version 1.26.4\n",
      "  warnings.warn(f\"A NumPy version >={np_minversion} and <{np_maxversion}\"\n"
     ]
    }
   ],
   "source": [
    "import numpy as np\n",
    "from sklearn import datasets\n",
    "from sklearn.preprocessing import StandardScaler\n",
    "from sklearn.model_selection import train_test_split\n",
    "from sklearn.metrics import mean_squared_error,accuracy_score,classification_report\n",
    "import skfuzzy as fuzz\n",
    "import matplotlib.pyplot as plt\n",
    "import torch\n",
    "import torch.nn as nn\n",
    "import torch.optim as optim\n",
    "import pandas\n"
   ]
  },
  {
   "cell_type": "markdown",
   "id": "b2a942b6",
   "metadata": {},
   "source": [
    "Diabetes Data Set Regression"
   ]
  },
  {
   "cell_type": "markdown",
   "id": "4ba8705c",
   "metadata": {},
   "source": [
    "The following implementation has the standard steps to create a fuzzy Takagi Sugueno Model.First, the data is uploaded and divide it into train and testing.This is a satndard step when creating models, to ensure that the testing is reliable and not testing on data the model already has acess to, which would lead to non reliable results. "
   ]
  },
  {
   "cell_type": "code",
   "execution_count": 2,
   "id": "aa3266f4",
   "metadata": {
    "scrolled": true
   },
   "outputs": [
    {
     "data": {
      "text/plain": [
       "(442, 10)"
      ]
     },
     "execution_count": 2,
     "metadata": {},
     "output_type": "execute_result"
    }
   ],
   "source": [
    "#importing data\n",
    "from sklearn import datasets\n",
    "diabetes=datasets.load_diabetes(as_frame=True)\n",
    "#diabetes = datasets.fetch_openml(name=\"boston\",version=1, as_frame=True) \n",
    "\n",
    "X=diabetes.data.values\n",
    "y=diabetes.target.values\n",
    "X.shape"
   ]
  },
  {
   "cell_type": "code",
   "execution_count": 3,
   "id": "452205f3",
   "metadata": {},
   "outputs": [],
   "source": [
    "#train test spliting\n",
    "test_size=0.2\n",
    "Xtr, Xte, ytr, yte = train_test_split(X, y, test_size=test_size, random_state=42)"
   ]
  },
  {
   "cell_type": "markdown",
   "id": "fc03e38e",
   "metadata": {},
   "source": [
    "The standarization step is also an essential one, since it allows all features to have the same weight of contribution."
   ]
  },
  {
   "cell_type": "code",
   "execution_count": 4,
   "id": "7430362e",
   "metadata": {},
   "outputs": [],
   "source": [
    "scaler=StandardScaler()\n",
    "Xtr= scaler.fit_transform(Xtr)\n",
    "Xte= scaler.transform(Xte)\n"
   ]
  },
  {
   "cell_type": "markdown",
   "id": "156feea6",
   "metadata": {},
   "source": [
    "To initialize the training fase the clusters(n)and the fuzzifier(m) value are defined. The number of clsuters represents the number of fuzzy rules, and m is the fuzzinesss parameter. The centers are the rule consequents."
   ]
  },
  {
   "cell_type": "code",
   "execution_count": 5,
   "id": "c47fddf6",
   "metadata": {},
   "outputs": [],
   "source": [
    "# Number of clusters \n",
    "n_clusters = 2\n",
    "m=2\n",
    "\n",
    "# Concatenate target for clustering\n",
    "Xexp=np.concatenate([Xtr, ytr.reshape(-1, 1)], axis=1)\n",
    "\n",
    "# Transpose data for skfuzzy (expects features x samples)\n",
    "Xexp_T = Xexp.T \n",
    "\n",
    "# Fuzzy C-means clustering\n",
    "centers, u, u0, d, jm, p, fpc = fuzz.cluster.cmeans(\n",
    "    Xexp_T, n_clusters, m=m, error=0.005, maxiter=1000, init=None,\n",
    ")"
   ]
  },
  {
   "cell_type": "code",
   "execution_count": 6,
   "id": "05474931",
   "metadata": {},
   "outputs": [
    {
     "data": {
      "text/plain": [
       "(2, 11)"
      ]
     },
     "execution_count": 6,
     "metadata": {},
     "output_type": "execute_result"
    }
   ],
   "source": [
    "centers.shape"
   ]
  },
  {
   "cell_type": "code",
   "execution_count": 7,
   "id": "8a94ee54",
   "metadata": {},
   "outputs": [],
   "source": [
    "# Compute sigma (spread) for each cluster\n",
    "sigmas = []\n",
    "for j in range(n_clusters):\n",
    "    # membership weights for cluster j, raised to m\n",
    "    u_j = u[j, :] ** m\n",
    "    # weighted variance for each feature\n",
    "    var_j = np.average((Xexp - centers[j])**2, axis=0, weights=u_j)\n",
    "    sigma_j = np.sqrt(var_j)\n",
    "    sigmas.append(sigma_j)\n",
    "sigmas=np.array(sigmas)"
   ]
  },
  {
   "cell_type": "code",
   "execution_count": 8,
   "id": "96965392",
   "metadata": {},
   "outputs": [
    {
     "name": "stdout",
     "output_type": "stream",
     "text": [
      "Fuzzy partition coefficient (FPC): 0.8556200565345432\n"
     ]
    },
    {
     "data": {
      "image/png": "[encoded data removed]",
      "text/plain": [
       "<Figure size 576x432 with 1 Axes>"
      ]
     },
     "metadata": {
      "needs_background": "light"
     },
     "output_type": "display_data"
    }
   ],
   "source": [
    "# Hard clustering from fuzzy membership\n",
    "cluster_labels = np.argmax(u, axis=0)\n",
    "print(\"Fuzzy partition coefficient (FPC):\", fpc)\n",
    "\n",
    "# Plot first two features with fuzzy membership\n",
    "plt.figure(figsize=(8,6))\n",
    "for j in range(n_clusters):\n",
    "    plt.scatter(\n",
    "        Xexp[cluster_labels == j, 0],             # Feature 1\n",
    "        Xexp[cluster_labels == j, 1],             # Feature 2\n",
    "        alpha=u[j, :],          # transparency ~ membership\n",
    "        label=f'Cluster {j}'\n",
    "    )\n",
    "\n",
    "plt.title(\"Fuzzy C-Means Clustering (with membership degree)\")\n",
    "plt.xlabel(\"Feature 1\")\n",
    "plt.ylabel(\"Feature 2\")\n",
    "plt.legend()\n",
    "plt.show()"
   ]
  },
  {
   "cell_type": "code",
   "execution_count": 9,
   "id": "b346039e",
   "metadata": {},
   "outputs": [
    {
     "data": {
      "image/png": "[encoded data removed]",
      "text/plain": [
       "<Figure size 576x432 with 1 Axes>"
      ]
     },
     "metadata": {
      "needs_background": "light"
     },
     "output_type": "display_data"
    }
   ],
   "source": [
    "# Plot first two features with cluster assignments\n",
    "plt.figure(figsize=(8,6))\n",
    "for j in range(n_clusters):\n",
    "    plt.scatter(\n",
    "        Xexp[cluster_labels == j, 0],\n",
    "        Xexp[cluster_labels == j, 1],\n",
    "        label=f'Cluster {j}'\n",
    "    )\n",
    "\n",
    "plt.title(\"Fuzzy C-Means Clustering (CRISPEN)\")\n",
    "plt.xlabel(\"Feature 1\")\n",
    "plt.ylabel(\"Feature 2\")\n",
    "plt.legend()\n",
    "plt.show()"
   ]
  },
  {
   "cell_type": "markdown",
   "id": "26e33db2",
   "metadata": {},
   "source": [
    "The Gaussian Membership Functions works as the guide to wich cluster each data should belong to. "
   ]
  },
  {
   "cell_type": "code",
   "execution_count": 10,
   "id": "56a19391",
   "metadata": {},
   "outputs": [],
   "source": [
    "# ---------------------------\n",
    "# Gaussian Membership Function\n",
    "# ---------------------------\n",
    "class GaussianMF(nn.Module):\n",
    "    def __init__(self, centers, sigmas, agg_prob):\n",
    "        super().__init__()\n",
    "        self.centers = nn.Parameter(torch.tensor(centers, dtype=torch.float32))\n",
    "        self.sigmas = nn.Parameter(torch.tensor(sigmas, dtype=torch.float32))\n",
    "        self.agg_prob=agg_prob\n",
    "\n",
    "    def forward(self, x):\n",
    "        # Expand for broadcasting\n",
    "        # x: (batch, 1, n_dims), centers: (1, n_rules, n_dims), sigmas: (1, n_rules, n_dims)\n",
    "        diff = abs((x.unsqueeze(1) - self.centers.unsqueeze(0))/self.sigmas.unsqueeze(0)) #(batch, n_rules, n_dims)\n",
    "\n",
    "        # Aggregation\n",
    "        if self.agg_prob:\n",
    "            dist = torch.norm(diff, dim=-1)  # (batch, n_rules) # probablistic intersection\n",
    "        else:\n",
    "            dist = torch.max(diff, dim=-1).values  # (batch, n_rules) # min intersection (min instersection of normal funtion is the same as the max on dist)\n",
    "        \n",
    "        return torch.exp(-0.5 * dist ** 2)\n",
    "\n",
    "# ---------------------------\n",
    "# TSK Model\n",
    "# ---------------------------\n",
    "class TSK(nn.Module):\n",
    "    def __init__(self, n_inputs, n_rules, centers, sigmas,agg_prob=False):\n",
    "        super().__init__()\n",
    "        self.n_inputs = n_inputs\n",
    "        self.n_rules = n_rules\n",
    "\n",
    "        # Antecedents (Gaussian MFs)\n",
    "        \n",
    "        self.mfs=GaussianMF(centers, sigmas,agg_prob) \n",
    "\n",
    "        # Consequents (linear functions of inputs)\n",
    "        # Each rule has coeffs for each input + bias\n",
    "        self.consequents = nn.Parameter(torch.randn(n_inputs + 1,n_rules))\n",
    "\n",
    "    def forward(self, x):\n",
    "        # x: (batch, n_inputs)\n",
    "        batch_size = x.shape[0]\n",
    "        \n",
    "        # Compute membership values for each input feature\n",
    "        # firing_strengths: (batch, n_rules)\n",
    "        firing_strengths = self.mfs(x)\n",
    "        \n",
    "        # Normalize memberships\n",
    "        # norm_fs: (batch, n_rules)\n",
    "        norm_fs = firing_strengths / (firing_strengths.sum(dim=1, keepdim=True) + 1e-9)\n",
    "\n",
    "        # Consequent output (linear model per rule)\n",
    "        x_aug = torch.cat([x, torch.ones(batch_size, 1)], dim=1)  # add bias\n",
    "\n",
    "        rule_outputs = torch.einsum(\"br,rk->bk\", x_aug, self.consequents)  # (batch, rules)\n",
    "        # Weighted sum\n",
    "        output = torch.sum(norm_fs * rule_outputs, dim=1, keepdim=True)\n",
    "\n",
    "        return output, norm_fs, rule_outputs\n",
    "\n"
   ]
  },
  {
   "cell_type": "markdown",
   "id": "a973b49c",
   "metadata": {},
   "source": [
    "The Class above defines the TSK model in 3 big steps.The antecedents are defined usinfg the fuzzifier gaussian membership function, next the consequents are created as a linear function of the inputs and finally the inferance."
   ]
  },
  {
   "cell_type": "code",
   "execution_count": 11,
   "id": "82b2c795",
   "metadata": {},
   "outputs": [],
   "source": [
    "model = TSK(n_inputs=Xtr.shape[1], n_rules=n_clusters, centers=centers[:,:-1], sigmas=sigmas[:,:-1])\n",
    "\n",
    "Xtr = torch.tensor(Xtr, dtype=torch.float32)\n",
    "ytr = torch.tensor(ytr, dtype=torch.float32)\n",
    "Xte = torch.tensor(Xte, dtype=torch.float32)\n",
    "yte = torch.tensor(yte, dtype=torch.float32)\n"
   ]
  },
  {
   "cell_type": "markdown",
   "id": "a2de7b16",
   "metadata": {},
   "source": [
    "Finally the 0.2 data, that was defined in the beginig,are used to test the model using the least square solver."
   ]
  },
  {
   "cell_type": "code",
   "execution_count": 12,
   "id": "2d124222",
   "metadata": {},
   "outputs": [],
   "source": [
    "# Least Squares Solver for Consequents (TSK)\n",
    "#to get the optimal a and b already optimal\n",
    "# ---------------------------\n",
    "def train_ls(model, X, y):\n",
    "    with torch.no_grad():\n",
    "        _, norm_fs, _ = model(X)\n",
    "\n",
    "        # Design matrix for LS: combine normalized firing strengths with input\n",
    "        X_aug = torch.cat([X, torch.ones(X.shape[0], 1)], dim=1)\n",
    "        \n",
    "        Phi = torch.einsum(\"br,bi->bri\", X_aug, norm_fs).reshape(X.shape[0], -1)\n",
    "        \n",
    "        # Solve LS: consequents = (Phi^T Phi)^-1 Phi^T y\n",
    "        \n",
    "        theta= torch.linalg.lstsq(Phi, y).solution\n",
    "    \n",
    "        \n",
    "        model.consequents.data = theta.reshape(model.consequents.shape)"
   ]
  },
  {
   "cell_type": "code",
   "execution_count": 13,
   "id": "bfcde793",
   "metadata": {},
   "outputs": [],
   "source": [
    "train_ls(model, Xtr, ytr.reshape(-1,1))\n",
    "\n"
   ]
  },
  {
   "cell_type": "code",
   "execution_count": 14,
   "id": "d9762822",
   "metadata": {},
   "outputs": [
    {
     "name": "stdout",
     "output_type": "stream",
     "text": [
      "ACC:2545.267333984375\n"
     ]
    }
   ],
   "source": [
    "y_pred, _, _=model(Xte)\n",
    "print(f'ACC:{mean_squared_error(yte.detach().numpy(),y_pred.detach().numpy())}') #regression"
   ]
  },
  {
   "cell_type": "markdown",
   "id": "24d1e6bb",
   "metadata": {},
   "source": [
    "The obtained results for the TSK regression problem were, as expected, poor in accuracy.  The model with only 2 clusters and the data with 10 features lacked ability to predict such complex data."
   ]
  },
  {
   "cell_type": "markdown",
   "id": "73223edd",
   "metadata": {},
   "source": [
    " Neverthless to try and oppose these results,differente featureswere adjusted such as, the number of clusters \"n\", and the fuzzifier \"m\". The higher the number of clusters the worse the MSE, and the change in m, didnt show up as any significant diference.\n",
    " "
   ]
  },
  {
   "cell_type": "markdown",
   "id": "58785a90",
   "metadata": {},
   "source": [
    "Pima Indians Diabetes Dataset\n"
   ]
  },
  {
   "cell_type": "code",
   "execution_count": 15,
   "id": "cc06998f",
   "metadata": {},
   "outputs": [
    {
     "data": {
      "text/plain": [
       "(768, 8)"
      ]
     },
     "execution_count": 15,
     "metadata": {},
     "output_type": "execute_result"
    }
   ],
   "source": [
    "from sklearn.datasets import fetch_openml\n",
    "#load datasets\n",
    "diabetes=fetch_openml(\"diabetes\",version=1,as_frame=True)\n",
    "X=diabetes.data.values\n",
    "y=diabetes.target.values\n",
    "X.shape"
   ]
  },
  {
   "cell_type": "code",
   "execution_count": 16,
   "id": "3fe7ad40",
   "metadata": {},
   "outputs": [],
   "source": [
    "#train test spliting\n",
    "test_size=0.2\n",
    "Xtr, Xte, ytr, yte = train_test_split(X, y, test_size=test_size, random_state=42)"
   ]
  },
  {
   "cell_type": "code",
   "execution_count": 17,
   "id": "aacba6a0",
   "metadata": {},
   "outputs": [],
   "source": [
    "scaler=StandardScaler()\n",
    "Xtr= scaler.fit_transform(Xtr)\n",
    "Xte= scaler.transform(Xte)\n"
   ]
  },
  {
   "cell_type": "code",
   "execution_count": 18,
   "id": "b15afe3e",
   "metadata": {},
   "outputs": [],
   "source": [
    "# Number of clusters \n",
    "n_clusters = 2\n",
    "m=2\n",
    "\n",
    "from sklearn.preprocessing import LabelEncoder\n",
    "\n",
    "le = LabelEncoder()\n",
    "ytr_enc = le.fit_transform(ytr)   # numeric 0/1\n",
    "yte_enc = le.transform(yte)\n",
    "# Concatenate target for clustering\n",
    "Xexp=np.concatenate([Xtr, ytr_enc.reshape(-1, 1)], axis=1)\n",
    "\n",
    "\n",
    "\n",
    "\n",
    "# Concatenate\n",
    "Xexp = np.concatenate([Xtr, ytr_enc.reshape(-1, 1)], axis=1)\n",
    "\n",
    "\n",
    "# Transpose data for skfuzzy (expects features x samples)\n",
    "Xexp_T = Xexp.T \n",
    "\n",
    "# Fuzzy C-means clustering\n",
    "centers, u, u0, d, jm, p, fpc = fuzz.cluster.cmeans(\n",
    "    Xexp_T, n_clusters, m=m, error=0.005, maxiter=1000, init=None,\n",
    ")"
   ]
  },
  {
   "cell_type": "code",
   "execution_count": 19,
   "id": "c5bf4492",
   "metadata": {},
   "outputs": [
    {
     "data": {
      "text/plain": [
       "(2, 9)"
      ]
     },
     "execution_count": 19,
     "metadata": {},
     "output_type": "execute_result"
    }
   ],
   "source": [
    "centers.shape"
   ]
  },
  {
   "cell_type": "code",
   "execution_count": 20,
   "id": "d2d05873",
   "metadata": {},
   "outputs": [],
   "source": [
    "# Compute sigma (spread) for each cluster\n",
    "sigmas = []\n",
    "for j in range(n_clusters):\n",
    "    # membership weights for cluster j, raised to m\n",
    "    u_j = u[j, :] ** m\n",
    "    # weighted variance for each feature\n",
    "    var_j = np.average((Xexp - centers[j])**2, axis=0, weights=u_j)\n",
    "    sigma_j = np.sqrt(var_j)\n",
    "    sigmas.append(sigma_j)\n",
    "sigmas=np.array(sigmas)"
   ]
  },
  {
   "cell_type": "code",
   "execution_count": 21,
   "id": "709f6080",
   "metadata": {},
   "outputs": [
    {
     "name": "stdout",
     "output_type": "stream",
     "text": [
      "Fuzzy partition coefficient (FPC): 0.5049368971409721\n"
     ]
    },
    {
     "data": {
      "image/png": "[encoded data removed]",
      "text/plain": [
       "<Figure size 576x432 with 1 Axes>"
      ]
     },
     "metadata": {
      "needs_background": "light"
     },
     "output_type": "display_data"
    }
   ],
   "source": [
    "# Hard clustering from fuzzy membership\n",
    "cluster_labels = np.argmax(u, axis=0)\n",
    "print(\"Fuzzy partition coefficient (FPC):\", fpc)\n",
    "\n",
    "# Plot first two features with fuzzy membership\n",
    "plt.figure(figsize=(8,6))\n",
    "for j in range(n_clusters):\n",
    "    plt.scatter(\n",
    "        Xexp[cluster_labels == j, 0],             # Feature 1\n",
    "        Xexp[cluster_labels == j, 1],             # Feature 2\n",
    "        alpha=u[j, :],          # transparency ~ membership\n",
    "        label=f'Cluster {j}'\n",
    "    )\n",
    "\n",
    "plt.title(\"Fuzzy C-Means Clustering (with membership degree)\")\n",
    "plt.xlabel(\"Feature 1\")\n",
    "plt.ylabel(\"Feature 2\")\n",
    "plt.legend()\n",
    "plt.show()"
   ]
  },
  {
   "cell_type": "code",
   "execution_count": 22,
   "id": "99902ccf",
   "metadata": {},
   "outputs": [
    {
     "data": {
      "image/png": "[encoded data removed]",
      "text/plain": [
       "<Figure size 576x432 with 1 Axes>"
      ]
     },
     "metadata": {
      "needs_background": "light"
     },
     "output_type": "display_data"
    }
   ],
   "source": [
    "# Plot first two features with cluster assignments\n",
    "plt.figure(figsize=(8,6))\n",
    "for j in range(n_clusters):\n",
    "    plt.scatter(\n",
    "        Xexp[cluster_labels == j, 0],\n",
    "        Xexp[cluster_labels == j, 1],\n",
    "        label=f'Cluster {j}'\n",
    "    )\n",
    "\n",
    "plt.title(\"Fuzzy C-Means Clustering (CRISPEN)\")\n",
    "plt.xlabel(\"Feature 1\")\n",
    "plt.ylabel(\"Feature 2\")\n",
    "plt.legend()\n",
    "plt.show()"
   ]
  },
  {
   "cell_type": "code",
   "execution_count": 23,
   "id": "a787556b",
   "metadata": {},
   "outputs": [],
   "source": [
    "class GaussianMF(nn.Module):\n",
    "    def __init__(self, centers, sigmas, agg_prob):\n",
    "        super().__init__()\n",
    "        self.centers = nn.Parameter(torch.tensor(centers, dtype=torch.float32))\n",
    "        self.sigmas = nn.Parameter(torch.tensor(sigmas, dtype=torch.float32))\n",
    "        self.agg_prob=agg_prob\n",
    "\n",
    "    def forward(self, x):\n",
    "        # Expand for broadcasting\n",
    "        # x: (batch, 1, n_dims), centers: (1, n_rules, n_dims), sigmas: (1, n_rules, n_dims)\n",
    "        diff = abs((x.unsqueeze(1) - self.centers.unsqueeze(0))/self.sigmas.unsqueeze(0)) #(batch, n_rules, n_dims)\n",
    "\n",
    "        # Aggregation\n",
    "        if self.agg_prob:\n",
    "            dist = torch.norm(diff, dim=-1)  # (batch, n_rules) # probablistic intersection\n",
    "        else:\n",
    "            dist = torch.max(diff, dim=-1).values  # (batch, n_rules) # min intersection (min instersection of normal funtion is the same as the max on dist)\n",
    "        \n",
    "        return torch.exp(-0.5 * dist ** 2)\n",
    "\n",
    "\n",
    "class TSK(nn.Module):\n",
    "    def __init__(self, n_inputs, n_rules, centers, sigmas,agg_prob=False):\n",
    "        super().__init__()\n",
    "        self.n_inputs = n_inputs\n",
    "        self.n_rules = n_rules\n",
    "\n",
    "        # Antecedents (Gaussian MFs)\n",
    "        \n",
    "        self.mfs=GaussianMF(centers, sigmas,agg_prob) \n",
    "\n",
    "        # Consequents (linear functions of inputs)\n",
    "        # Each rule has coeffs for each input + bias\n",
    "        self.consequents = nn.Parameter(torch.randn(n_inputs + 1,n_rules))\n",
    "\n",
    "    def forward(self, x):\n",
    "        # x: (batch, n_inputs)\n",
    "        batch_size = x.shape[0]\n",
    "        \n",
    "        # Compute membership values for each input feature\n",
    "        # firing_strengths: (batch, n_rules)\n",
    "        firing_strengths = self.mfs(x)\n",
    "        \n",
    "        # Normalize memberships\n",
    "        # norm_fs: (batch, n_rules)\n",
    "        norm_fs = firing_strengths / (firing_strengths.sum(dim=1, keepdim=True) + 1e-9)\n",
    "\n",
    "        # Consequent output (linear model per rule)\n",
    "        x_aug = torch.cat([x, torch.ones(batch_size, 1)], dim=1)  # add bias\n",
    "\n",
    "        rule_outputs = torch.einsum(\"br,rk->bk\", x_aug, self.consequents)  # (batch, rules)\n",
    "        # Weighted sum\n",
    "        output = torch.sum(norm_fs * rule_outputs, dim=1, keepdim=True)\n",
    "\n",
    "        return output, norm_fs, rule_outputs\n",
    "\n"
   ]
  },
  {
   "cell_type": "code",
   "execution_count": 24,
   "id": "5396550d",
   "metadata": {},
   "outputs": [],
   "source": [
    "model = TSK(n_inputs=Xtr.shape[1], n_rules=n_clusters, centers=centers[:,:-1], sigmas=sigmas[:,:-1])\n",
    "\n",
    "Xtr = torch.tensor(Xtr, dtype=torch.float32)\n",
    "ytr = torch.tensor(ytr_enc, dtype=torch.float32)\n",
    "Xte = torch.tensor(Xte, dtype=torch.float32)\n",
    "yte = torch.tensor(yte_enc, dtype=torch.float32)\n"
   ]
  },
  {
   "cell_type": "code",
   "execution_count": 25,
   "id": "7b193eda",
   "metadata": {},
   "outputs": [],
   "source": [
    "# Least Squares Solver for Consequents (TSK)\n",
    "#to get the optimal a and b already optimal\n",
    "# ---------------------------\n",
    "def train_ls(model, X, y):\n",
    "    with torch.no_grad():\n",
    "        _, norm_fs, _ = model(X)\n",
    "\n",
    "        # Design matrix for LS: combine normalized firing strengths with input\n",
    "        X_aug = torch.cat([X, torch.ones(X.shape[0], 1)], dim=1)\n",
    "        \n",
    "        Phi = torch.einsum(\"br,bi->bri\", X_aug, norm_fs).reshape(X.shape[0], -1)\n",
    "        \n",
    "        # Solve LS: consequents = (Phi^T Phi)^-1 Phi^T y\n",
    "        \n",
    "        theta= torch.linalg.lstsq(Phi, y).solution\n",
    "    \n",
    "        \n",
    "        model.consequents.data = theta.reshape(model.consequents.shape)"
   ]
  },
  {
   "cell_type": "code",
   "execution_count": 26,
   "id": "6feba293",
   "metadata": {},
   "outputs": [],
   "source": [
    "train_ls(model, Xtr, ytr.reshape(-1,1))\n"
   ]
  },
  {
   "cell_type": "code",
   "execution_count": 27,
   "id": "92a90a10",
   "metadata": {},
   "outputs": [
    {
     "name": "stdout",
     "output_type": "stream",
     "text": [
      "ACC:0.7467532467532467\n"
     ]
    }
   ],
   "source": [
    "y_pred, _, _=model(Xte)\n",
    "\n",
    "print(f'ACC:{accuracy_score(yte.detach().numpy(),y_pred.detach().numpy()>0.5)}') #classification"
   ]
  },
  {
   "cell_type": "markdown",
   "id": "9769d93c",
   "metadata": {},
   "source": [
    "the TSK fuzzy model applied, followed the same structure as the problem before. The diabetes classification problem was, as expected, much more accurate in its prediction. The value was approximatley 0, this corroborates the choice of number of clusters (2) and the original value of fuzzifier \"m\".\n"
   ]
  }
 ],
 "metadata": {
  "kernelspec": {
   "display_name": "Python 3 (ipykernel)",
   "language": "python",
   "name": "python3"
  },
  "language_info": {
   "codemirror_mode": {
    "name": "ipython",
    "version": 3
   },
   "file_extension": ".py",
   "mimetype": "text/x-python",
   "name": "python",
   "nbconvert_exporter": "python",
   "pygments_lexer": "ipython3",
   "version": "3.9.7"
  }
 },
 "nbformat": 4,
 "nbformat_minor": 5
}
